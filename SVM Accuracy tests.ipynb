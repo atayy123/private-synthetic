{
  "nbformat": 4,
  "nbformat_minor": 0,
  "metadata": {
    "colab": {
      "provenance": [],
      "authorship_tag": "ABX9TyOsqFG979C5arwZWeo/DK3/",
      "include_colab_link": true
    },
    "kernelspec": {
      "name": "python3",
      "display_name": "Python 3"
    },
    "language_info": {
      "name": "python"
    }
  },
  "cells": [
    {
      "cell_type": "markdown",
      "metadata": {
        "id": "view-in-github",
        "colab_type": "text"
      },
      "source": [
        "<a href=\"https://colab.research.google.com/github/atayy123/private-synthetic/blob/main/SVM%20Accuracy%20tests.ipynb\" target=\"_parent\"><img src=\"https://colab.research.google.com/assets/colab-badge.svg\" alt=\"Open In Colab\"/></a>"
      ]
    },
    {
      "cell_type": "code",
      "execution_count": 1,
      "metadata": {
        "colab": {
          "base_uri": "https://localhost:8080/"
        },
        "id": "It0juH-3l4mm",
        "outputId": "e0db76d0-5644-4aba-d1ed-5e4808a767f2"
      },
      "outputs": [
        {
          "output_type": "stream",
          "name": "stdout",
          "text": [
            "Cloning into 'private-synthetic'...\n",
            "remote: Enumerating objects: 75, done.\u001b[K\n",
            "remote: Counting objects: 100% (75/75), done.\u001b[K\n",
            "remote: Compressing objects: 100% (68/68), done.\u001b[K\n",
            "remote: Total 75 (delta 7), reused 72 (delta 4), pack-reused 0\u001b[K\n",
            "Receiving objects: 100% (75/75), 6.92 MiB | 13.60 MiB/s, done.\n",
            "Resolving deltas: 100% (7/7), done.\n"
          ]
        }
      ],
      "source": [
        "!git clone https://github.com/atayy123/private-synthetic.git"
      ]
    },
    {
      "cell_type": "code",
      "source": [
        "!pip install git+https://github.com/ryan112358/private-pgm.git"
      ],
      "metadata": {
        "colab": {
          "base_uri": "https://localhost:8080/"
        },
        "id": "smYcuKrXnzsj",
        "outputId": "b471e487-4f92-41bc-8a6b-b4477cac8f4e"
      },
      "execution_count": 20,
      "outputs": [
        {
          "output_type": "stream",
          "name": "stdout",
          "text": [
            "Collecting git+https://github.com/ryan112358/private-pgm.git\n",
            "  Cloning https://github.com/ryan112358/private-pgm.git to /tmp/pip-req-build-mh3u1716\n",
            "  Running command git clone --filter=blob:none --quiet https://github.com/ryan112358/private-pgm.git /tmp/pip-req-build-mh3u1716\n",
            "  Resolved https://github.com/ryan112358/private-pgm.git to commit 5b9126295c110b741e5426ddbff419ea1e60e788\n",
            "  Preparing metadata (setup.py) ... \u001b[?25l\u001b[?25hdone\n",
            "Requirement already satisfied: numpy in /usr/local/lib/python3.10/dist-packages (from private-pgm==0.0.1) (1.25.2)\n",
            "Requirement already satisfied: scipy in /usr/local/lib/python3.10/dist-packages (from private-pgm==0.0.1) (1.11.4)\n",
            "Requirement already satisfied: pandas in /usr/local/lib/python3.10/dist-packages (from private-pgm==0.0.1) (1.5.3)\n",
            "Requirement already satisfied: networkx in /usr/local/lib/python3.10/dist-packages (from private-pgm==0.0.1) (3.2.1)\n",
            "Requirement already satisfied: matplotlib in /usr/local/lib/python3.10/dist-packages (from private-pgm==0.0.1) (3.7.1)\n",
            "Collecting nose (from private-pgm==0.0.1)\n",
            "  Downloading nose-1.3.7-py3-none-any.whl (154 kB)\n",
            "\u001b[2K     \u001b[90m━━━━━━━━━━━━━━━━━━━━━━━━━━━━━━━━━━━━━━━━\u001b[0m \u001b[32m154.7/154.7 kB\u001b[0m \u001b[31m3.5 MB/s\u001b[0m eta \u001b[36m0:00:00\u001b[0m\n",
            "\u001b[?25hCollecting disjoint-set (from private-pgm==0.0.1)\n",
            "  Downloading disjoint_set-0.8.0-py3-none-any.whl (5.6 kB)\n",
            "Requirement already satisfied: contourpy>=1.0.1 in /usr/local/lib/python3.10/dist-packages (from matplotlib->private-pgm==0.0.1) (1.2.0)\n",
            "Requirement already satisfied: cycler>=0.10 in /usr/local/lib/python3.10/dist-packages (from matplotlib->private-pgm==0.0.1) (0.12.1)\n",
            "Requirement already satisfied: fonttools>=4.22.0 in /usr/local/lib/python3.10/dist-packages (from matplotlib->private-pgm==0.0.1) (4.50.0)\n",
            "Requirement already satisfied: kiwisolver>=1.0.1 in /usr/local/lib/python3.10/dist-packages (from matplotlib->private-pgm==0.0.1) (1.4.5)\n",
            "Requirement already satisfied: packaging>=20.0 in /usr/local/lib/python3.10/dist-packages (from matplotlib->private-pgm==0.0.1) (24.0)\n",
            "Requirement already satisfied: pillow>=6.2.0 in /usr/local/lib/python3.10/dist-packages (from matplotlib->private-pgm==0.0.1) (9.4.0)\n",
            "Requirement already satisfied: pyparsing>=2.3.1 in /usr/local/lib/python3.10/dist-packages (from matplotlib->private-pgm==0.0.1) (3.1.2)\n",
            "Requirement already satisfied: python-dateutil>=2.7 in /usr/local/lib/python3.10/dist-packages (from matplotlib->private-pgm==0.0.1) (2.8.2)\n",
            "Requirement already satisfied: pytz>=2020.1 in /usr/local/lib/python3.10/dist-packages (from pandas->private-pgm==0.0.1) (2023.4)\n",
            "Requirement already satisfied: six>=1.5 in /usr/local/lib/python3.10/dist-packages (from python-dateutil>=2.7->matplotlib->private-pgm==0.0.1) (1.16.0)\n",
            "Building wheels for collected packages: private-pgm\n",
            "  Building wheel for private-pgm (setup.py) ... \u001b[?25l\u001b[?25hdone\n",
            "  Created wheel for private-pgm: filename=private_pgm-0.0.1-py3-none-any.whl size=41242 sha256=bca206a311241f7c1e1a891b756984f8217c425232d1499650bd614322d17692\n",
            "  Stored in directory: /tmp/pip-ephem-wheel-cache-ys95rkx7/wheels/0f/3e/df/50e38e22bfd2627d967bd57bd930405599142e9b39870cd9fe\n",
            "Successfully built private-pgm\n",
            "Installing collected packages: nose, disjoint-set, private-pgm\n",
            "Successfully installed disjoint-set-0.8.0 nose-1.3.7 private-pgm-0.0.1\n"
          ]
        }
      ]
    },
    {
      "cell_type": "code",
      "source": [
        "%cd private-synthetic/ektelo/privBayes\n",
        "!python setup.py build_ext --inplace"
      ],
      "metadata": {
        "colab": {
          "base_uri": "https://localhost:8080/"
        },
        "id": "2SnjV3DVm0j7",
        "outputId": "d3f5d9ef-606b-4adb-8146-8ddeed6714a9"
      },
      "execution_count": 16,
      "outputs": [
        {
          "output_type": "stream",
          "name": "stdout",
          "text": [
            "/content/private-synthetic/ektelo/privBayes\n",
            "In file included from \u001b[01m\u001b[Klib/translator.h:8\u001b[m\u001b[K,\n",
            "                 from \u001b[01m\u001b[Klib/table.h:13\u001b[m\u001b[K,\n",
            "                 from \u001b[01m\u001b[Klib/methods.h:10\u001b[m\u001b[K,\n",
            "                 from \u001b[01m\u001b[Klib/methods.cpp:1\u001b[m\u001b[K:\n",
            "\u001b[01m\u001b[Klib/tools.h:\u001b[m\u001b[K In static member function ‘\u001b[01m\u001b[Kstatic bool tools::inc(std::vector<int>&, const std::vector<int>&)\u001b[m\u001b[K’:\n",
            "\u001b[01m\u001b[Klib/tools.h:50:26:\u001b[m\u001b[K \u001b[01;35m\u001b[Kwarning: \u001b[m\u001b[Kcomparison of integer expressions of different signedness: ‘\u001b[01m\u001b[Kint\u001b[m\u001b[K’ and ‘\u001b[01m\u001b[Kstd::vector<int>::size_type\u001b[m\u001b[K’ {aka ‘\u001b[01m\u001b[Klong unsigned int\u001b[m\u001b[K’} [\u001b[01;35m\u001b[K\u001b]8;;https://gcc.gnu.org/onlinedocs/gcc/Warning-Options.html#index-Wsign-compare\u0007-Wsign-compare\u001b]8;;\u0007\u001b[m\u001b[K]\n",
            "   50 |                 while (\u001b[01;35m\u001b[Kt < value.size()\u001b[m\u001b[K && value[t] == bound[t] - 1) {\n",
            "      |                        \u001b[01;35m\u001b[K~~^~~~~~~~~~~~~~\u001b[m\u001b[K\n",
            "\u001b[01m\u001b[Klib/tools.h:55:23:\u001b[m\u001b[K \u001b[01;35m\u001b[Kwarning: \u001b[m\u001b[Kcomparison of integer expressions of different signedness: ‘\u001b[01m\u001b[Kint\u001b[m\u001b[K’ and ‘\u001b[01m\u001b[Kstd::vector<int>::size_type\u001b[m\u001b[K’ {aka ‘\u001b[01m\u001b[Klong unsigned int\u001b[m\u001b[K’} [\u001b[01;35m\u001b[K\u001b]8;;https://gcc.gnu.org/onlinedocs/gcc/Warning-Options.html#index-Wsign-compare\u0007-Wsign-compare\u001b]8;;\u0007\u001b[m\u001b[K]\n",
            "   55 |                 if (\u001b[01;35m\u001b[Kt == value.size()\u001b[m\u001b[K) return false;\n",
            "      |                     \u001b[01;35m\u001b[K~~^~~~~~~~~~~~~~~\u001b[m\u001b[K\n",
            "\u001b[01m\u001b[Klib/tools.h:\u001b[m\u001b[K In static member function ‘\u001b[01m\u001b[Kstatic std::vector<int> tools::decode(int, const std::vector<int>&)\u001b[m\u001b[K’:\n",
            "\u001b[01m\u001b[Klib/tools.h:71:35:\u001b[m\u001b[K \u001b[01;35m\u001b[Kwarning: \u001b[m\u001b[Kcomparison of integer expressions of different signedness: ‘\u001b[01m\u001b[Kint\u001b[m\u001b[K’ and ‘\u001b[01m\u001b[Kstd::vector<int>::size_type\u001b[m\u001b[K’ {aka ‘\u001b[01m\u001b[Klong unsigned int\u001b[m\u001b[K’} [\u001b[01;35m\u001b[K\u001b]8;;https://gcc.gnu.org/onlinedocs/gcc/Warning-Options.html#index-Wsign-compare\u0007-Wsign-compare\u001b]8;;\u0007\u001b[m\u001b[K]\n",
            "   71 |                 for (int t = 0; \u001b[01;35m\u001b[Kt < bound.size()\u001b[m\u001b[K; t++) {\n",
            "      |                                 \u001b[01;35m\u001b[K~~^~~~~~~~~~~~~~\u001b[m\u001b[K\n",
            "\u001b[01m\u001b[Klib/tools.h:\u001b[m\u001b[K In static member function ‘\u001b[01m\u001b[Kstatic double tools::TVD(const std::vector<double>&, const std::vector<double>&)\u001b[m\u001b[K’:\n",
            "\u001b[01m\u001b[Klib/tools.h:167:35:\u001b[m\u001b[K \u001b[01;35m\u001b[Kwarning: \u001b[m\u001b[Kcomparison of integer expressions of different signedness: ‘\u001b[01m\u001b[Kint\u001b[m\u001b[K’ and ‘\u001b[01m\u001b[Kstd::vector<double>::size_type\u001b[m\u001b[K’ {aka ‘\u001b[01m\u001b[Klong unsigned int\u001b[m\u001b[K’} [\u001b[01;35m\u001b[K\u001b]8;;https://gcc.gnu.org/onlinedocs/gcc/Warning-Options.html#index-Wsign-compare\u0007-Wsign-compare\u001b]8;;\u0007\u001b[m\u001b[K]\n",
            "  167 |                 for (int t = 0; \u001b[01;35m\u001b[Kt < na.size()\u001b[m\u001b[K; t++) dist += abs(na[t] - nb[t]);\n",
            "      |                                 \u001b[01;35m\u001b[K~~^~~~~~~~~~~\u001b[m\u001b[K\n",
            "\u001b[01m\u001b[Klib/methods.cpp:\u001b[m\u001b[K In member function ‘\u001b[01m\u001b[Kstd::vector<dependence> bayesian::greedy_exact(double)\u001b[m\u001b[K’:\n",
            "\u001b[01m\u001b[Klib/methods.cpp:140:16:\u001b[m\u001b[K \u001b[01;35m\u001b[Kwarning: \u001b[m\u001b[Kunused variable ‘\u001b[01m\u001b[Ksens\u001b[m\u001b[K’ [\u001b[01;35m\u001b[K\u001b]8;;https://gcc.gnu.org/onlinedocs/gcc/Warning-Options.html#index-Wunused-variable\u0007-Wunused-variable\u001b]8;;\u0007\u001b[m\u001b[K]\n",
            "  140 |         double \u001b[01;35m\u001b[Ksens\u001b[m\u001b[K = tbl.sens;\n",
            "      |                \u001b[01;35m\u001b[K^~~~\u001b[m\u001b[K\n",
            "In file included from \u001b[01m\u001b[Klib/noise.h:6\u001b[m\u001b[K,\n",
            "                 from \u001b[01m\u001b[Klib/noise.cpp:1\u001b[m\u001b[K:\n",
            "\u001b[01m\u001b[Klib/tools.h:\u001b[m\u001b[K In static member function ‘\u001b[01m\u001b[Kstatic bool tools::inc(std::vector<int>&, const std::vector<int>&)\u001b[m\u001b[K’:\n",
            "\u001b[01m\u001b[Klib/tools.h:50:26:\u001b[m\u001b[K \u001b[01;35m\u001b[Kwarning: \u001b[m\u001b[Kcomparison of integer expressions of different signedness: ‘\u001b[01m\u001b[Kint\u001b[m\u001b[K’ and ‘\u001b[01m\u001b[Kstd::vector<int>::size_type\u001b[m\u001b[K’ {aka ‘\u001b[01m\u001b[Klong unsigned int\u001b[m\u001b[K’} [\u001b[01;35m\u001b[K\u001b]8;;https://gcc.gnu.org/onlinedocs/gcc/Warning-Options.html#index-Wsign-compare\u0007-Wsign-compare\u001b]8;;\u0007\u001b[m\u001b[K]\n",
            "   50 |                 while (\u001b[01;35m\u001b[Kt < value.size()\u001b[m\u001b[K && value[t] == bound[t] - 1) {\n",
            "      |                        \u001b[01;35m\u001b[K~~^~~~~~~~~~~~~~\u001b[m\u001b[K\n",
            "\u001b[01m\u001b[Klib/tools.h:55:23:\u001b[m\u001b[K \u001b[01;35m\u001b[Kwarning: \u001b[m\u001b[Kcomparison of integer expressions of different signedness: ‘\u001b[01m\u001b[Kint\u001b[m\u001b[K’ and ‘\u001b[01m\u001b[Kstd::vector<int>::size_type\u001b[m\u001b[K’ {aka ‘\u001b[01m\u001b[Klong unsigned int\u001b[m\u001b[K’} [\u001b[01;35m\u001b[K\u001b]8;;https://gcc.gnu.org/onlinedocs/gcc/Warning-Options.html#index-Wsign-compare\u0007-Wsign-compare\u001b]8;;\u0007\u001b[m\u001b[K]\n",
            "   55 |                 if (\u001b[01;35m\u001b[Kt == value.size()\u001b[m\u001b[K) return false;\n",
            "      |                     \u001b[01;35m\u001b[K~~^~~~~~~~~~~~~~~\u001b[m\u001b[K\n",
            "\u001b[01m\u001b[Klib/tools.h:\u001b[m\u001b[K In static member function ‘\u001b[01m\u001b[Kstatic std::vector<int> tools::decode(int, const std::vector<int>&)\u001b[m\u001b[K’:\n",
            "\u001b[01m\u001b[Klib/tools.h:71:35:\u001b[m\u001b[K \u001b[01;35m\u001b[Kwarning: \u001b[m\u001b[Kcomparison of integer expressions of different signedness: ‘\u001b[01m\u001b[Kint\u001b[m\u001b[K’ and ‘\u001b[01m\u001b[Kstd::vector<int>::size_type\u001b[m\u001b[K’ {aka ‘\u001b[01m\u001b[Klong unsigned int\u001b[m\u001b[K’} [\u001b[01;35m\u001b[K\u001b]8;;https://gcc.gnu.org/onlinedocs/gcc/Warning-Options.html#index-Wsign-compare\u0007-Wsign-compare\u001b]8;;\u0007\u001b[m\u001b[K]\n",
            "   71 |                 for (int t = 0; \u001b[01;35m\u001b[Kt < bound.size()\u001b[m\u001b[K; t++) {\n",
            "      |                                 \u001b[01;35m\u001b[K~~^~~~~~~~~~~~~~\u001b[m\u001b[K\n",
            "\u001b[01m\u001b[Klib/tools.h:\u001b[m\u001b[K In static member function ‘\u001b[01m\u001b[Kstatic double tools::TVD(const std::vector<double>&, const std::vector<double>&)\u001b[m\u001b[K’:\n",
            "\u001b[01m\u001b[Klib/tools.h:167:35:\u001b[m\u001b[K \u001b[01;35m\u001b[Kwarning: \u001b[m\u001b[Kcomparison of integer expressions of different signedness: ‘\u001b[01m\u001b[Kint\u001b[m\u001b[K’ and ‘\u001b[01m\u001b[Kstd::vector<double>::size_type\u001b[m\u001b[K’ {aka ‘\u001b[01m\u001b[Klong unsigned int\u001b[m\u001b[K’} [\u001b[01;35m\u001b[K\u001b]8;;https://gcc.gnu.org/onlinedocs/gcc/Warning-Options.html#index-Wsign-compare\u0007-Wsign-compare\u001b]8;;\u0007\u001b[m\u001b[K]\n",
            "  167 |                 for (int t = 0; \u001b[01;35m\u001b[Kt < na.size()\u001b[m\u001b[K; t++) dist += abs(na[t] - nb[t]);\n",
            "      |                                 \u001b[01;35m\u001b[K~~^~~~~~~~~~~\u001b[m\u001b[K\n",
            "In file included from \u001b[01m\u001b[Klib/translator.h:8\u001b[m\u001b[K,\n",
            "                 from \u001b[01m\u001b[Klib/table.h:13\u001b[m\u001b[K,\n",
            "                 from \u001b[01m\u001b[Klib/methods.h:10\u001b[m\u001b[K,\n",
            "                 from \u001b[01m\u001b[Klib/privBayes_model.cpp:6\u001b[m\u001b[K:\n",
            "\u001b[01m\u001b[Klib/tools.h:\u001b[m\u001b[K In static member function ‘\u001b[01m\u001b[Kstatic bool tools::inc(std::vector<int>&, const std::vector<int>&)\u001b[m\u001b[K’:\n",
            "\u001b[01m\u001b[Klib/tools.h:50:26:\u001b[m\u001b[K \u001b[01;35m\u001b[Kwarning: \u001b[m\u001b[Kcomparison of integer expressions of different signedness: ‘\u001b[01m\u001b[Kint\u001b[m\u001b[K’ and ‘\u001b[01m\u001b[Kstd::vector<int>::size_type\u001b[m\u001b[K’ {aka ‘\u001b[01m\u001b[Klong unsigned int\u001b[m\u001b[K’} [\u001b[01;35m\u001b[K\u001b]8;;https://gcc.gnu.org/onlinedocs/gcc/Warning-Options.html#index-Wsign-compare\u0007-Wsign-compare\u001b]8;;\u0007\u001b[m\u001b[K]\n",
            "   50 |                 while (\u001b[01;35m\u001b[Kt < value.size()\u001b[m\u001b[K && value[t] == bound[t] - 1) {\n",
            "      |                        \u001b[01;35m\u001b[K~~^~~~~~~~~~~~~~\u001b[m\u001b[K\n",
            "\u001b[01m\u001b[Klib/tools.h:55:23:\u001b[m\u001b[K \u001b[01;35m\u001b[Kwarning: \u001b[m\u001b[Kcomparison of integer expressions of different signedness: ‘\u001b[01m\u001b[Kint\u001b[m\u001b[K’ and ‘\u001b[01m\u001b[Kstd::vector<int>::size_type\u001b[m\u001b[K’ {aka ‘\u001b[01m\u001b[Klong unsigned int\u001b[m\u001b[K’} [\u001b[01;35m\u001b[K\u001b]8;;https://gcc.gnu.org/onlinedocs/gcc/Warning-Options.html#index-Wsign-compare\u0007-Wsign-compare\u001b]8;;\u0007\u001b[m\u001b[K]\n",
            "   55 |                 if (\u001b[01;35m\u001b[Kt == value.size()\u001b[m\u001b[K) return false;\n",
            "      |                     \u001b[01;35m\u001b[K~~^~~~~~~~~~~~~~~\u001b[m\u001b[K\n",
            "\u001b[01m\u001b[Klib/tools.h:\u001b[m\u001b[K In static member function ‘\u001b[01m\u001b[Kstatic std::vector<int> tools::decode(int, const std::vector<int>&)\u001b[m\u001b[K’:\n",
            "\u001b[01m\u001b[Klib/tools.h:71:35:\u001b[m\u001b[K \u001b[01;35m\u001b[Kwarning: \u001b[m\u001b[Kcomparison of integer expressions of different signedness: ‘\u001b[01m\u001b[Kint\u001b[m\u001b[K’ and ‘\u001b[01m\u001b[Kstd::vector<int>::size_type\u001b[m\u001b[K’ {aka ‘\u001b[01m\u001b[Klong unsigned int\u001b[m\u001b[K’} [\u001b[01;35m\u001b[K\u001b]8;;https://gcc.gnu.org/onlinedocs/gcc/Warning-Options.html#index-Wsign-compare\u0007-Wsign-compare\u001b]8;;\u0007\u001b[m\u001b[K]\n",
            "   71 |                 for (int t = 0; \u001b[01;35m\u001b[Kt < bound.size()\u001b[m\u001b[K; t++) {\n",
            "      |                                 \u001b[01;35m\u001b[K~~^~~~~~~~~~~~~~\u001b[m\u001b[K\n",
            "\u001b[01m\u001b[Klib/tools.h:\u001b[m\u001b[K In static member function ‘\u001b[01m\u001b[Kstatic double tools::TVD(const std::vector<double>&, const std::vector<double>&)\u001b[m\u001b[K’:\n",
            "\u001b[01m\u001b[Klib/tools.h:167:35:\u001b[m\u001b[K \u001b[01;35m\u001b[Kwarning: \u001b[m\u001b[Kcomparison of integer expressions of different signedness: ‘\u001b[01m\u001b[Kint\u001b[m\u001b[K’ and ‘\u001b[01m\u001b[Kstd::vector<double>::size_type\u001b[m\u001b[K’ {aka ‘\u001b[01m\u001b[Klong unsigned int\u001b[m\u001b[K’} [\u001b[01;35m\u001b[K\u001b]8;;https://gcc.gnu.org/onlinedocs/gcc/Warning-Options.html#index-Wsign-compare\u0007-Wsign-compare\u001b]8;;\u0007\u001b[m\u001b[K]\n",
            "  167 |                 for (int t = 0; \u001b[01;35m\u001b[Kt < na.size()\u001b[m\u001b[K; t++) dist += abs(na[t] - nb[t]);\n",
            "      |                                 \u001b[01;35m\u001b[K~~^~~~~~~~~~~\u001b[m\u001b[K\n",
            "In file included from \u001b[01m\u001b[Klib/translator.h:8\u001b[m\u001b[K,\n",
            "                 from \u001b[01m\u001b[Klib/table.h:13\u001b[m\u001b[K,\n",
            "                 from \u001b[01m\u001b[Klib/table.cpp:1\u001b[m\u001b[K:\n",
            "\u001b[01m\u001b[Klib/tools.h:\u001b[m\u001b[K In static member function ‘\u001b[01m\u001b[Kstatic bool tools::inc(std::vector<int>&, const std::vector<int>&)\u001b[m\u001b[K’:\n",
            "\u001b[01m\u001b[Klib/tools.h:50:26:\u001b[m\u001b[K \u001b[01;35m\u001b[Kwarning: \u001b[m\u001b[Kcomparison of integer expressions of different signedness: ‘\u001b[01m\u001b[Kint\u001b[m\u001b[K’ and ‘\u001b[01m\u001b[Kstd::vector<int>::size_type\u001b[m\u001b[K’ {aka ‘\u001b[01m\u001b[Klong unsigned int\u001b[m\u001b[K’} [\u001b[01;35m\u001b[K\u001b]8;;https://gcc.gnu.org/onlinedocs/gcc/Warning-Options.html#index-Wsign-compare\u0007-Wsign-compare\u001b]8;;\u0007\u001b[m\u001b[K]\n",
            "   50 |                 while (\u001b[01;35m\u001b[Kt < value.size()\u001b[m\u001b[K && value[t] == bound[t] - 1) {\n",
            "      |                        \u001b[01;35m\u001b[K~~^~~~~~~~~~~~~~\u001b[m\u001b[K\n",
            "\u001b[01m\u001b[Klib/tools.h:55:23:\u001b[m\u001b[K \u001b[01;35m\u001b[Kwarning: \u001b[m\u001b[Kcomparison of integer expressions of different signedness: ‘\u001b[01m\u001b[Kint\u001b[m\u001b[K’ and ‘\u001b[01m\u001b[Kstd::vector<int>::size_type\u001b[m\u001b[K’ {aka ‘\u001b[01m\u001b[Klong unsigned int\u001b[m\u001b[K’} [\u001b[01;35m\u001b[K\u001b]8;;https://gcc.gnu.org/onlinedocs/gcc/Warning-Options.html#index-Wsign-compare\u0007-Wsign-compare\u001b]8;;\u0007\u001b[m\u001b[K]\n",
            "   55 |                 if (\u001b[01;35m\u001b[Kt == value.size()\u001b[m\u001b[K) return false;\n",
            "      |                     \u001b[01;35m\u001b[K~~^~~~~~~~~~~~~~~\u001b[m\u001b[K\n",
            "\u001b[01m\u001b[Klib/tools.h:\u001b[m\u001b[K In static member function ‘\u001b[01m\u001b[Kstatic std::vector<int> tools::decode(int, const std::vector<int>&)\u001b[m\u001b[K’:\n",
            "\u001b[01m\u001b[Klib/tools.h:71:35:\u001b[m\u001b[K \u001b[01;35m\u001b[Kwarning: \u001b[m\u001b[Kcomparison of integer expressions of different signedness: ‘\u001b[01m\u001b[Kint\u001b[m\u001b[K’ and ‘\u001b[01m\u001b[Kstd::vector<int>::size_type\u001b[m\u001b[K’ {aka ‘\u001b[01m\u001b[Klong unsigned int\u001b[m\u001b[K’} [\u001b[01;35m\u001b[K\u001b]8;;https://gcc.gnu.org/onlinedocs/gcc/Warning-Options.html#index-Wsign-compare\u0007-Wsign-compare\u001b]8;;\u0007\u001b[m\u001b[K]\n",
            "   71 |                 for (int t = 0; \u001b[01;35m\u001b[Kt < bound.size()\u001b[m\u001b[K; t++) {\n",
            "      |                                 \u001b[01;35m\u001b[K~~^~~~~~~~~~~~~~\u001b[m\u001b[K\n",
            "\u001b[01m\u001b[Klib/tools.h:\u001b[m\u001b[K In static member function ‘\u001b[01m\u001b[Kstatic double tools::TVD(const std::vector<double>&, const std::vector<double>&)\u001b[m\u001b[K’:\n",
            "\u001b[01m\u001b[Klib/tools.h:167:35:\u001b[m\u001b[K \u001b[01;35m\u001b[Kwarning: \u001b[m\u001b[Kcomparison of integer expressions of different signedness: ‘\u001b[01m\u001b[Kint\u001b[m\u001b[K’ and ‘\u001b[01m\u001b[Kstd::vector<double>::size_type\u001b[m\u001b[K’ {aka ‘\u001b[01m\u001b[Klong unsigned int\u001b[m\u001b[K’} [\u001b[01;35m\u001b[K\u001b]8;;https://gcc.gnu.org/onlinedocs/gcc/Warning-Options.html#index-Wsign-compare\u0007-Wsign-compare\u001b]8;;\u0007\u001b[m\u001b[K]\n",
            "  167 |                 for (int t = 0; \u001b[01;35m\u001b[Kt < na.size()\u001b[m\u001b[K; t++) dist += abs(na[t] - nb[t]);\n",
            "      |                                 \u001b[01;35m\u001b[K~~^~~~~~~~~~~\u001b[m\u001b[K\n",
            "\u001b[01m\u001b[Klib/table.cpp:\u001b[m\u001b[K In constructor ‘\u001b[01m\u001b[Ktable::table(const int*, const string&, bool, int, int)\u001b[m\u001b[K’:\n",
            "\u001b[01m\u001b[Klib/table.cpp:33:9:\u001b[m\u001b[K \u001b[01;35m\u001b[Kwarning: \u001b[m\u001b[Kunused variable ‘\u001b[01m\u001b[Ki\u001b[m\u001b[K’ [\u001b[01;35m\u001b[K\u001b]8;;https://gcc.gnu.org/onlinedocs/gcc/Warning-Options.html#index-Wunused-variable\u0007-Wunused-variable\u001b]8;;\u0007\u001b[m\u001b[K]\n",
            "   33 |     int \u001b[01;35m\u001b[Ki\u001b[m\u001b[K, j ;\n",
            "      |         \u001b[01;35m\u001b[K^\u001b[m\u001b[K\n",
            "\u001b[01m\u001b[Klib/table.cpp:33:12:\u001b[m\u001b[K \u001b[01;35m\u001b[Kwarning: \u001b[m\u001b[Kunused variable ‘\u001b[01m\u001b[Kj\u001b[m\u001b[K’ [\u001b[01;35m\u001b[K\u001b]8;;https://gcc.gnu.org/onlinedocs/gcc/Warning-Options.html#index-Wunused-variable\u0007-Wunused-variable\u001b]8;;\u0007\u001b[m\u001b[K]\n",
            "   33 |     int i, \u001b[01;35m\u001b[Kj\u001b[m\u001b[K ;\n",
            "      |            \u001b[01;35m\u001b[K^\u001b[m\u001b[K\n",
            "\u001b[01m\u001b[Klib/table.cpp:\u001b[m\u001b[K In member function ‘\u001b[01m\u001b[Kstd::vector<int> table::getWidth(const std::vector<int>&, const std::vector<int>&)\u001b[m\u001b[K’:\n",
            "\u001b[01m\u001b[Klib/table.cpp:139:23:\u001b[m\u001b[K \u001b[01;35m\u001b[Kwarning: \u001b[m\u001b[Kcomparison of integer expressions of different signedness: ‘\u001b[01m\u001b[Kint\u001b[m\u001b[K’ and ‘\u001b[01m\u001b[Kstd::vector<int>::size_type\u001b[m\u001b[K’ {aka ‘\u001b[01m\u001b[Klong unsigned int\u001b[m\u001b[K’} [\u001b[01;35m\u001b[K\u001b]8;;https://gcc.gnu.org/onlinedocs/gcc/Warning-Options.html#index-Wsign-compare\u0007-Wsign-compare\u001b]8;;\u0007\u001b[m\u001b[K]\n",
            "  139 |     for (int t = 0; \u001b[01;35m\u001b[Kt < cols.size()\u001b[m\u001b[K; t++)\n",
            "      |                     \u001b[01;35m\u001b[K~~^~~~~~~~~~~~~\u001b[m\u001b[K\n",
            "\u001b[01m\u001b[Klib/table.cpp:\u001b[m\u001b[K In member function ‘\u001b[01m\u001b[Kstd::vector<double> table::getF(const std::vector<double>&, const std::vector<int>&)\u001b[m\u001b[K’:\n",
            "\u001b[01m\u001b[Klib/table.cpp:174:23:\u001b[m\u001b[K \u001b[01;35m\u001b[Kwarning: \u001b[m\u001b[Kcomparison of integer expressions of different signedness: ‘\u001b[01m\u001b[Kint\u001b[m\u001b[K’ and ‘\u001b[01m\u001b[Kstd::vector<int>::size_type\u001b[m\u001b[K’ {aka ‘\u001b[01m\u001b[Klong unsigned int\u001b[m\u001b[K’} [\u001b[01;35m\u001b[K\u001b]8;;https://gcc.gnu.org/onlinedocs/gcc/Warning-Options.html#index-Wsign-compare\u0007-Wsign-compare\u001b]8;;\u0007\u001b[m\u001b[K]\n",
            "  174 |     for (int t = 0; \u001b[01;35m\u001b[Kt < widths.size()\u001b[m\u001b[K; t++) {\n",
            "      |                     \u001b[01;35m\u001b[K~~^~~~~~~~~~~~~~~\u001b[m\u001b[K\n",
            "\u001b[01m\u001b[Klib/table.cpp:\u001b[m\u001b[K In member function ‘\u001b[01m\u001b[Kstd::vector<double> table::getI(const std::vector<double>&, const std::vector<int>&)\u001b[m\u001b[K’:\n",
            "\u001b[01m\u001b[Klib/table.cpp:208:23:\u001b[m\u001b[K \u001b[01;35m\u001b[Kwarning: \u001b[m\u001b[Kcomparison of integer expressions of different signedness: ‘\u001b[01m\u001b[Kint\u001b[m\u001b[K’ and ‘\u001b[01m\u001b[Kstd::vector<int>::size_type\u001b[m\u001b[K’ {aka ‘\u001b[01m\u001b[Klong unsigned int\u001b[m\u001b[K’} [\u001b[01;35m\u001b[K\u001b]8;;https://gcc.gnu.org/onlinedocs/gcc/Warning-Options.html#index-Wsign-compare\u0007-Wsign-compare\u001b]8;;\u0007\u001b[m\u001b[K]\n",
            "  208 |     for (int t = 0; \u001b[01;35m\u001b[Kt < widths.size()\u001b[m\u001b[K; t++) {\n",
            "      |                     \u001b[01;35m\u001b[K~~^~~~~~~~~~~~~~~\u001b[m\u001b[K\n",
            "\u001b[01m\u001b[Klib/table.cpp:\u001b[m\u001b[K In member function ‘\u001b[01m\u001b[Kstd::vector<double> table::getR(const std::vector<double>&, const std::vector<int>&)\u001b[m\u001b[K’:\n",
            "\u001b[01m\u001b[Klib/table.cpp:231:23:\u001b[m\u001b[K \u001b[01;35m\u001b[Kwarning: \u001b[m\u001b[Kcomparison of integer expressions of different signedness: ‘\u001b[01m\u001b[Kint\u001b[m\u001b[K’ and ‘\u001b[01m\u001b[Kstd::vector<int>::size_type\u001b[m\u001b[K’ {aka ‘\u001b[01m\u001b[Klong unsigned int\u001b[m\u001b[K’} [\u001b[01;35m\u001b[K\u001b]8;;https://gcc.gnu.org/onlinedocs/gcc/Warning-Options.html#index-Wsign-compare\u0007-Wsign-compare\u001b]8;;\u0007\u001b[m\u001b[K]\n",
            "  231 |     for (int t = 0; \u001b[01;35m\u001b[Kt < widths.size()\u001b[m\u001b[K; t++) {\n",
            "      |                     \u001b[01;35m\u001b[K~~^~~~~~~~~~~~~~~\u001b[m\u001b[K\n",
            "\u001b[01m\u001b[Klib/table.cpp:\u001b[m\u001b[K In member function ‘\u001b[01m\u001b[Kstd::vector<int> table::generalize(const std::vector<int>&, const std::vector<int>&, const std::vector<int>&)\u001b[m\u001b[K’:\n",
            "\u001b[01m\u001b[Klib/table.cpp:341:23:\u001b[m\u001b[K \u001b[01;35m\u001b[Kwarning: \u001b[m\u001b[Kcomparison of integer expressions of different signedness: ‘\u001b[01m\u001b[Kint\u001b[m\u001b[K’ and ‘\u001b[01m\u001b[Kstd::vector<int>::size_type\u001b[m\u001b[K’ {aka ‘\u001b[01m\u001b[Klong unsigned int\u001b[m\u001b[K’} [\u001b[01;35m\u001b[K\u001b]8;;https://gcc.gnu.org/onlinedocs/gcc/Warning-Options.html#index-Wsign-compare\u0007-Wsign-compare\u001b]8;;\u0007\u001b[m\u001b[K]\n",
            "  341 |     for (int t = 0; \u001b[01;35m\u001b[Kt < vals.size()\u001b[m\u001b[K; t++)\n",
            "      |                     \u001b[01;35m\u001b[K~~^~~~~~~~~~~~~\u001b[m\u001b[K\n",
            "\u001b[01m\u001b[Klib/table.cpp:\u001b[m\u001b[K In member function ‘\u001b[01m\u001b[Kstd::vector<int> table::generalize(const std::vector<int>&, const std::vector<int>&, const std::vector<int>&, const std::vector<int>&)\u001b[m\u001b[K’:\n",
            "\u001b[01m\u001b[Klib/table.cpp:348:23:\u001b[m\u001b[K \u001b[01;35m\u001b[Kwarning: \u001b[m\u001b[Kcomparison of integer expressions of different signedness: ‘\u001b[01m\u001b[Kint\u001b[m\u001b[K’ and ‘\u001b[01m\u001b[Kstd::vector<int>::size_type\u001b[m\u001b[K’ {aka ‘\u001b[01m\u001b[Klong unsigned int\u001b[m\u001b[K’} [\u001b[01;35m\u001b[K\u001b]8;;https://gcc.gnu.org/onlinedocs/gcc/Warning-Options.html#index-Wsign-compare\u0007-Wsign-compare\u001b]8;;\u0007\u001b[m\u001b[K]\n",
            "  348 |     for (int t = 0; \u001b[01;35m\u001b[Kt < vals.size()\u001b[m\u001b[K; t++)\n",
            "      |                     \u001b[01;35m\u001b[K~~^~~~~~~~~~~~~\u001b[m\u001b[K\n",
            "\u001b[01m\u001b[Klib/table.cpp:\u001b[m\u001b[K In member function ‘\u001b[01m\u001b[Kstd::vector<std::pair<int, int> > table::specialize(const std::vector<int>&, const std::vector<int>&, const std::vector<int>&)\u001b[m\u001b[K’:\n",
            "\u001b[01m\u001b[Klib/table.cpp:360:23:\u001b[m\u001b[K \u001b[01;35m\u001b[Kwarning: \u001b[m\u001b[Kcomparison of integer expressions of different signedness: ‘\u001b[01m\u001b[Kint\u001b[m\u001b[K’ and ‘\u001b[01m\u001b[Kstd::vector<int>::size_type\u001b[m\u001b[K’ {aka ‘\u001b[01m\u001b[Klong unsigned int\u001b[m\u001b[K’} [\u001b[01;35m\u001b[K\u001b]8;;https://gcc.gnu.org/onlinedocs/gcc/Warning-Options.html#index-Wsign-compare\u0007-Wsign-compare\u001b]8;;\u0007\u001b[m\u001b[K]\n",
            "  360 |     for (int t = 0; \u001b[01;35m\u001b[Kt < vals.size()\u001b[m\u001b[K; t++)\n",
            "      |                     \u001b[01;35m\u001b[K~~^~~~~~~~~~~~~\u001b[m\u001b[K\n",
            "In file included from \u001b[01m\u001b[Klib/translator.h:8\u001b[m\u001b[K,\n",
            "                 from \u001b[01m\u001b[Klib/translator.cpp:1\u001b[m\u001b[K:\n",
            "\u001b[01m\u001b[Klib/tools.h:\u001b[m\u001b[K In static member function ‘\u001b[01m\u001b[Kstatic bool tools::inc(std::vector<int>&, const std::vector<int>&)\u001b[m\u001b[K’:\n",
            "\u001b[01m\u001b[Klib/tools.h:50:26:\u001b[m\u001b[K \u001b[01;35m\u001b[Kwarning: \u001b[m\u001b[Kcomparison of integer expressions of different signedness: ‘\u001b[01m\u001b[Kint\u001b[m\u001b[K’ and ‘\u001b[01m\u001b[Kstd::vector<int>::size_type\u001b[m\u001b[K’ {aka ‘\u001b[01m\u001b[Klong unsigned int\u001b[m\u001b[K’} [\u001b[01;35m\u001b[K\u001b]8;;https://gcc.gnu.org/onlinedocs/gcc/Warning-Options.html#index-Wsign-compare\u0007-Wsign-compare\u001b]8;;\u0007\u001b[m\u001b[K]\n",
            "   50 |                 while (\u001b[01;35m\u001b[Kt < value.size()\u001b[m\u001b[K && value[t] == bound[t] - 1) {\n",
            "      |                        \u001b[01;35m\u001b[K~~^~~~~~~~~~~~~~\u001b[m\u001b[K\n",
            "\u001b[01m\u001b[Klib/tools.h:55:23:\u001b[m\u001b[K \u001b[01;35m\u001b[Kwarning: \u001b[m\u001b[Kcomparison of integer expressions of different signedness: ‘\u001b[01m\u001b[Kint\u001b[m\u001b[K’ and ‘\u001b[01m\u001b[Kstd::vector<int>::size_type\u001b[m\u001b[K’ {aka ‘\u001b[01m\u001b[Klong unsigned int\u001b[m\u001b[K’} [\u001b[01;35m\u001b[K\u001b]8;;https://gcc.gnu.org/onlinedocs/gcc/Warning-Options.html#index-Wsign-compare\u0007-Wsign-compare\u001b]8;;\u0007\u001b[m\u001b[K]\n",
            "   55 |                 if (\u001b[01;35m\u001b[Kt == value.size()\u001b[m\u001b[K) return false;\n",
            "      |                     \u001b[01;35m\u001b[K~~^~~~~~~~~~~~~~~\u001b[m\u001b[K\n",
            "\u001b[01m\u001b[Klib/tools.h:\u001b[m\u001b[K In static member function ‘\u001b[01m\u001b[Kstatic std::vector<int> tools::decode(int, const std::vector<int>&)\u001b[m\u001b[K’:\n",
            "\u001b[01m\u001b[Klib/tools.h:71:35:\u001b[m\u001b[K \u001b[01;35m\u001b[Kwarning: \u001b[m\u001b[Kcomparison of integer expressions of different signedness: ‘\u001b[01m\u001b[Kint\u001b[m\u001b[K’ and ‘\u001b[01m\u001b[Kstd::vector<int>::size_type\u001b[m\u001b[K’ {aka ‘\u001b[01m\u001b[Klong unsigned int\u001b[m\u001b[K’} [\u001b[01;35m\u001b[K\u001b]8;;https://gcc.gnu.org/onlinedocs/gcc/Warning-Options.html#index-Wsign-compare\u0007-Wsign-compare\u001b]8;;\u0007\u001b[m\u001b[K]\n",
            "   71 |                 for (int t = 0; \u001b[01;35m\u001b[Kt < bound.size()\u001b[m\u001b[K; t++) {\n",
            "      |                                 \u001b[01;35m\u001b[K~~^~~~~~~~~~~~~~\u001b[m\u001b[K\n",
            "\u001b[01m\u001b[Klib/tools.h:\u001b[m\u001b[K In static member function ‘\u001b[01m\u001b[Kstatic double tools::TVD(const std::vector<double>&, const std::vector<double>&)\u001b[m\u001b[K’:\n",
            "\u001b[01m\u001b[Klib/tools.h:167:35:\u001b[m\u001b[K \u001b[01;35m\u001b[Kwarning: \u001b[m\u001b[Kcomparison of integer expressions of different signedness: ‘\u001b[01m\u001b[Kint\u001b[m\u001b[K’ and ‘\u001b[01m\u001b[Kstd::vector<double>::size_type\u001b[m\u001b[K’ {aka ‘\u001b[01m\u001b[Klong unsigned int\u001b[m\u001b[K’} [\u001b[01;35m\u001b[K\u001b]8;;https://gcc.gnu.org/onlinedocs/gcc/Warning-Options.html#index-Wsign-compare\u0007-Wsign-compare\u001b]8;;\u0007\u001b[m\u001b[K]\n",
            "  167 |                 for (int t = 0; \u001b[01;35m\u001b[Kt < na.size()\u001b[m\u001b[K; t++) dist += abs(na[t] - nb[t]);\n",
            "      |                                 \u001b[01;35m\u001b[K~~^~~~~~~~~~~\u001b[m\u001b[K\n",
            "In file included from \u001b[01m\u001b[K/usr/local/lib/python3.10/dist-packages/numpy/core/include/numpy/ndarraytypes.h:1929\u001b[m\u001b[K,\n",
            "                 from \u001b[01m\u001b[K/usr/local/lib/python3.10/dist-packages/numpy/core/include/numpy/ndarrayobject.h:12\u001b[m\u001b[K,\n",
            "                 from \u001b[01m\u001b[K/usr/local/lib/python3.10/dist-packages/numpy/core/include/numpy/arrayobject.h:5\u001b[m\u001b[K,\n",
            "                 from \u001b[01m\u001b[KprivBayesSelect.cpp:1274\u001b[m\u001b[K:\n",
            "\u001b[01m\u001b[K/usr/local/lib/python3.10/dist-packages/numpy/core/include/numpy/npy_1_7_deprecated_api.h:17:2:\u001b[m\u001b[K \u001b[01;35m\u001b[Kwarning: \u001b[m\u001b[K#warning \"Using deprecated NumPy API, disable it with \" \"#define NPY_NO_DEPRECATED_API NPY_1_7_API_VERSION\" [\u001b[01;35m\u001b[K\u001b]8;;https://gcc.gnu.org/onlinedocs/gcc/Warning-Options.html#index-Wcpp\u0007-Wcpp\u001b]8;;\u0007\u001b[m\u001b[K]\n",
            "   17 | #\u001b[01;35m\u001b[Kwarning\u001b[m\u001b[K \"Using deprecated NumPy API, disable it with \" \\\n",
            "      |  \u001b[01;35m\u001b[K^~~~~~~\u001b[m\u001b[K\n"
          ]
        }
      ]
    },
    {
      "cell_type": "code",
      "source": [
        "%cd ../..\n",
        "!ls"
      ],
      "metadata": {
        "colab": {
          "base_uri": "https://localhost:8080/"
        },
        "id": "7YMTerxmnWbC",
        "outputId": "a8879313-1981-474c-941f-0234244fd2a1"
      },
      "execution_count": 17,
      "outputs": [
        {
          "output_type": "stream",
          "name": "stdout",
          "text": [
            "/content/private-synthetic\n",
            "'Accuracy tests with SVM.ipynb'   data\t\t __pycache__   synth\n",
            " augment.py\t\t\t  ektelo\t svm_avg.py   'synth others'\n",
            " benchmarks.py\t\t\t  privbayes.py\t svm.py\n"
          ]
        }
      ]
    },
    {
      "cell_type": "code",
      "source": [
        "!python svm_avg.py"
      ],
      "metadata": {
        "colab": {
          "base_uri": "https://localhost:8080/"
        },
        "id": "OZcb6BktmE7b",
        "outputId": "2c35c1af-1c60-46e0-b1db-85aedb99fe88"
      },
      "execution_count": null,
      "outputs": [
        {
          "output_type": "stream",
          "name": "stdout",
          "text": [
            "Run 1\n",
            "DP: 0.8024568805062663 Uniform: 0.7920957935227696 Real: 0.7972453157960044\n"
          ]
        }
      ]
    }
  ]
}